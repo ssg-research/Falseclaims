{
 "cells": [
  {
   "cell_type": "code",
   "execution_count": 1,
   "metadata": {},
   "outputs": [],
   "source": [
    "# Parameters\n",
    "dataset = \"CIFAR10\" # CIFAR10, CIFAR100, SVHN\n",
    "v_type = \"mingd\" # mingd, rand\n",
    "root_path = \"/home/r545zhan/aaa/False-Claims-Against-Model-Ownership-Resolution/defences/cifar10/DI/files\"\n",
    "params_path = \"/home/r545zhan/aaa/False-Claims-Against-Model-Ownership-Resolution/defences/cifar10/DI/files\"\n",
    "split_index = 500\n"
   ]
  },
  {
   "cell_type": "code",
   "execution_count": 2,
   "metadata": {},
   "outputs": [
    {
     "data": {
      "text/markdown": [
       "# CIFAR10 - MinGD results"
      ],
      "text/plain": [
       "<IPython.core.display.Markdown object>"
      ]
     },
     "metadata": {},
     "output_type": "display_data"
    }
   ],
   "source": [
    "from IPython.display import display, Markdown\n",
    "v_type2disp = dict(mingd=\"MinGD\", rand=\"Blind Walk\")\n",
    "display(Markdown(f\"# {dataset} - {v_type2disp[v_type]} results\"))"
   ]
  },
  {
   "cell_type": "code",
   "execution_count": 3,
   "metadata": {},
   "outputs": [
    {
     "name": "stderr",
     "output_type": "stream",
     "text": [
      "/home/r545zhan/.conda/envs/pytorch-gpu/lib/python3.10/site-packages/tqdm/auto.py:21: TqdmWarning: IProgress not found. Please update jupyter and ipywidgets. See https://ipywidgets.readthedocs.io/en/stable/user_install.html\n",
      "  from .autonotebook import tqdm as notebook_tqdm\n"
     ]
    }
   ],
   "source": [
    "import os, sys\n",
    "sys.path.insert(0, params_path)\n",
    "\n",
    "import argparse, time\n",
    "import numpy as np\n",
    "import torch\n",
    "import torch.nn as nn\n",
    "import torch.optim as optim\n",
    "from importlib import reload\n",
    "from tqdm.auto import tqdm\n",
    "\n",
    "import random\n",
    "\n",
    "torch.manual_seed(0)\n",
    "np.random.seed(0)\n",
    "random.seed(0)"
   ]
  },
  {
   "cell_type": "code",
   "execution_count": 4,
   "metadata": {},
   "outputs": [],
   "source": [
    "import seaborn as sns\n",
    "import pandas as pd\n",
    "import os"
   ]
  },
  {
   "cell_type": "code",
   "execution_count": 5,
   "metadata": {},
   "outputs": [],
   "source": [
    "from scipy.stats import combine_pvalues, ttest_ind_from_stats, ttest_ind\n",
    "from functools import reduce\n",
    "from scipy.stats import hmean"
   ]
  },
  {
   "cell_type": "code",
   "execution_count": 6,
   "metadata": {},
   "outputs": [],
   "source": [
    "root = os.path.join(root_path,dataset)"
   ]
  },
  {
   "cell_type": "code",
   "execution_count": 7,
   "metadata": {},
   "outputs": [],
   "source": [
    "names = [\"teacher\",\"teacher_adv\",\"fine-tune\",\"independent\",\"ind\",\"suspect\",\"suspect_same_struct\",\"suspect_same_data\",\"suspect_adv\",\"suspect_same_data_adv\",\"suspect_same_struct_adv\"]\n",
    "trains = {}\n",
    "tests = {}\n",
    "for name in names:\n",
    "    trains[name] = (torch.load(f\"{root}/model_{name}/train_{v_type}_vulnerability_2.pt\"))\n",
    "    tests[name] = (torch.load(f\"{root}/model_{name}/test_{v_type}_vulnerability_2.pt\"))\n",
    "mean_cifar = trains[\"teacher\"].mean(dim = (0,1))\n",
    "std_cifar = trains[\"teacher\"].std(dim = (0,1))"
   ]
  },
  {
   "cell_type": "code",
   "execution_count": 8,
   "metadata": {},
   "outputs": [
    {
     "name": "stderr",
     "output_type": "stream",
     "text": [
      "/tmp/ipykernel_910255/3891043543.py:17: UserWarning: The use of `x.T` on tensors of dimension other than 2 to reverse their shape is deprecated and it will throw an error in a future release. Consider `x.mT` to transpose batches of matricesor `x.permute(*torch.arange(x.ndim - 1, -1, -1))` to reverse the dimensions of a tensor. (Triggered internally at  /opt/conda/conda-bld/pytorch_1659484808560/work/aten/src/ATen/native/TensorShape.cpp:2981.)\n",
      "  trains_n[name] = trains[name].T.reshape(500,f_num)[:,:a_num]\n"
     ]
    }
   ],
   "source": [
    "for name in names:\n",
    "    trains[name] = trains[name].sort(dim = 1)[0]\n",
    "    tests[name] = tests[name].sort(dim = 1)[0]\n",
    "for name in names:\n",
    "    trains[name] = (trains[name]- mean_cifar)/std_cifar\n",
    "    tests[name] = (tests[name]- mean_cifar)/std_cifar\n",
    "f_num = 30\n",
    "a_num=30\n",
    "\n",
    "trains_n = {}\n",
    "tests_n = {}\n",
    "for name in names:\n",
    "    if \"ind\" == name:\n",
    "        trains_n[name] = trains[name].T.reshape(500,f_num)[:,:a_num]\n",
    "        tests_n[name] = tests[name].T.reshape(500,f_num)[:,:a_num]\n",
    "    else:\n",
    "        trains_n[name] = trains[name].T.reshape(500,f_num)[:,:a_num]\n",
    "        tests_n[name] = tests[name].T.reshape(500,f_num)[:,:a_num]"
   ]
  },
  {
   "cell_type": "code",
   "execution_count": 9,
   "metadata": {},
   "outputs": [],
   "source": [
    "n_ex = split_index\n",
    "train = torch.cat((trains_n[\"teacher\"][:250], tests_n[\"teacher\"][:250]), dim = 0)\n",
    "y = torch.cat((torch.zeros(250), torch.ones(250)), dim = 0)\n",
    "train_adv = torch.cat((trains_n[\"teacher_adv\"][:250], tests_n[\"teacher_adv\"][:250]), dim = 0)\n",
    "rand=torch.randperm(y.shape[0])\n",
    "train = train[rand]\n",
    "train_adv = train_adv[rand]\n",
    "y = y[rand]"
   ]
  },
  {
   "cell_type": "code",
   "execution_count": 10,
   "metadata": {},
   "outputs": [
    {
     "name": "stderr",
     "output_type": "stream",
     "text": [
      "loss -0.8555805683135986: 100%|██████████| 500/500 [00:00<00:00, 673.72it/s]\n",
      "loss -0.8583267331123352: 100%|██████████| 500/500 [00:00<00:00, 613.72it/s]\n"
     ]
    }
   ],
   "source": [
    "model = nn.Sequential(nn.Linear(a_num,100),nn.ReLU(),nn.Linear(100,1),nn.Tanh())\n",
    "criterion = nn.CrossEntropyLoss()\n",
    "optimizer =torch.optim.SGD(model.parameters(), lr=0.1)\n",
    "with tqdm(range(500)) as pbar:\n",
    "    for epoch in pbar:\n",
    "        optimizer.zero_grad()\n",
    "        inputs = train\n",
    "        outputs = model(inputs)\n",
    "        loss = -1 * ((2*y-1)*(outputs.squeeze(-1))).mean()\n",
    "        loss.backward()\n",
    "        optimizer.step()\n",
    "        pbar.set_description('loss {}'.format(loss.item()))\n",
    "model_adv = nn.Sequential(nn.Linear(a_num,100),nn.ReLU(),nn.Linear(100,1),nn.Tanh())\n",
    "model_adv.load_state_dict(model.state_dict())\n",
    "optimizer =torch.optim.SGD(model_adv.parameters(), lr=0.1)\n",
    "with tqdm(range(500)) as pbar:\n",
    "    for epoch in pbar:\n",
    "        optimizer.zero_grad()\n",
    "        inputs = train_adv\n",
    "        outputs = model_adv(inputs)\n",
    "        loss = -1 * ((2*y-1)*(outputs.squeeze(-1))).mean()\n",
    "        loss.backward()\n",
    "        optimizer.step()\n",
    "        pbar.set_description('loss {}'.format(loss.item()))"
   ]
  },
  {
   "cell_type": "code",
   "execution_count": 11,
   "metadata": {},
   "outputs": [],
   "source": [
    "def get_p(outputs_train, outputs_test):\n",
    "    pred_test = outputs_test[:,0].detach().cpu().numpy()\n",
    "    pred_train = outputs_train[:,0].detach().cpu().numpy()\n",
    "    tval, pval = ttest_ind(pred_test, pred_train, alternative=\"greater\", equal_var=False)\n",
    "    if pval < 0:\n",
    "        raise Exception(f\"p-value={pval}\")\n",
    "    return pval\n",
    "\n",
    "def get_p_values(num_ex, train, test, k):\n",
    "    total = train.shape[0]\n",
    "    sum_p = 0\n",
    "    p_values = []\n",
    "    positions_list = []\n",
    "    for i in range(k):\n",
    "        positions = torch.randperm(total)[:num_ex]\n",
    "        p_val = get_p(train[positions], test[positions])\n",
    "        positions_list.append(positions)\n",
    "        p_values.append(p_val)\n",
    "    return p_values\n",
    "\n",
    "def get_fischer(num_ex, train, test, k):\n",
    "    p_values = get_p_values(num_ex, train, test, k)\n",
    "    return combine_pvalues(p_values, method=\"mudholkar_george\")[1]\n",
    "\n",
    "def get_max_p_value(num_ex, train, test, k):\n",
    "    p_values = get_p_values(num_ex, train, test, k)\n",
    "    return max(p_values)"
   ]
  },
  {
   "cell_type": "code",
   "execution_count": 12,
   "metadata": {},
   "outputs": [],
   "source": [
    "outputs_tr = {}\n",
    "outputs_te = {}\n",
    "for name in names:\n",
    "    if 'adv' not in name:\n",
    "        model.eval()\n",
    "        outputs_tr[name] = model(trains_n[name])\n",
    "        outputs_te[name] = model(tests_n[name])\n",
    "    else:\n",
    "        model_adv.eval()\n",
    "        outputs_tr[name] = model_adv(trains_n[name])\n",
    "        outputs_te[name] = model_adv(tests_n[name])"
   ]
  },
  {
   "cell_type": "code",
   "execution_count": 13,
   "metadata": {},
   "outputs": [],
   "source": [
    "import scipy.stats as stats\n",
    "def print_inference(outputs_train, outputs_test):\n",
    "    m1, m2 = outputs_test[:,0].mean(), outputs_train[:,0].mean()\n",
    "    pval = get_p(outputs_train, outputs_test)\n",
    "    print(f\"p-value = {pval} \\t| Mean difference = {m1-m2}\\t|test_mu = {m1},train_mu = {m2}\")\n",
    "    return (m1-m2).item()"
   ]
  },
  {
   "cell_type": "code",
   "execution_count": 14,
   "metadata": {},
   "outputs": [],
   "source": [
    "for name in names:\n",
    "    outputs_tr[name], outputs_te[name] = outputs_tr[name][250:], outputs_te[name][250:]"
   ]
  },
  {
   "cell_type": "code",
   "execution_count": 15,
   "metadata": {},
   "outputs": [
    {
     "name": "stdout",
     "output_type": "stream",
     "text": [
      "teacher\n",
      "p-value = 2.3356723084772207e-117 \t| Mean difference = 1.6947860717773438\t|test_mu = 0.9969280362129211,train_mu = -0.6978579759597778\n",
      "teacher_adv\n",
      "p-value = 7.436678426638033e-119 \t| Mean difference = 1.67819344997406\t|test_mu = 0.9929133653640747,train_mu = -0.6852800846099854\n",
      "fine-tune\n",
      "p-value = 8.564214471473425e-66 \t| Mean difference = 1.243217945098877\t|test_mu = 0.9971282482147217,train_mu = -0.24608971178531647\n",
      "independent\n",
      "p-value = 0.9901923237278946 \t| Mean difference = -0.00306093692779541\t|test_mu = 0.9968839287757874,train_mu = 0.9999448657035828\n",
      "ind\n",
      "p-value = 9.271641757929135e-85 \t| Mean difference = 1.447338581085205\t|test_mu = 0.9969323873519897,train_mu = -0.4504062533378601\n",
      "suspect\n",
      "p-value = 1.2662814785702517e-86 \t| Mean difference = 1.4428024291992188\t|test_mu = 0.9943685531616211,train_mu = -0.44843387603759766\n",
      "suspect_same_struct\n",
      "p-value = 2.2403108752476746e-94 \t| Mean difference = 1.5191460847854614\t|test_mu = 0.9969804883003235,train_mu = -0.5221655964851379\n",
      "suspect_same_data\n",
      "p-value = 9.722329279748138e-92 \t| Mean difference = 1.5359842777252197\t|test_mu = 0.9964592456817627,train_mu = -0.539525032043457\n",
      "suspect_adv\n",
      "p-value = 3.776329169339268e-126 \t| Mean difference = 1.701448917388916\t|test_mu = 0.9880605340003967,train_mu = -0.7133883237838745\n",
      "suspect_same_data_adv\n",
      "p-value = 5.343069877299904e-121 \t| Mean difference = 1.6861417293548584\t|test_mu = 0.9917513132095337,train_mu = -0.6943904757499695\n",
      "suspect_same_struct_adv\n",
      "p-value = 2.5456406758584508e-118 \t| Mean difference = 1.6756694316864014\t|test_mu = 0.9928385019302368,train_mu = -0.6828308701515198\n"
     ]
    }
   ],
   "source": [
    "mu={}\n",
    "max_mu=0\n",
    "for name in names:\n",
    "    print(f\"{name}\")\n",
    "    mu[name]=print_inference(outputs_tr[name], outputs_te[name])\n",
    "    if mu[name]>=max_mu:\n",
    "        max_mu = mu[name]"
   ]
  },
  {
   "cell_type": "code",
   "execution_count": 16,
   "metadata": {},
   "outputs": [
    {
     "name": "stdout",
     "output_type": "stream",
     "text": [
      "teacher\n",
      "0.9960840166616362\n",
      "teacher_adv\n",
      "0.9863319626130508\n",
      "fine-tune\n",
      "0.7306819102196431\n",
      "independent\n",
      "-0.0017990178232872233\n",
      "ind\n",
      "0.8506506227094525\n",
      "suspect\n",
      "0.8479845703586433\n",
      "suspect_same_struct\n",
      "0.8928543603394095\n",
      "suspect_same_data\n",
      "0.9027507449840914\n",
      "suspect_adv\n",
      "1.0\n",
      "suspect_same_data_adv\n",
      "0.9910034395522445\n",
      "suspect_same_struct_adv\n",
      "0.9848485103260834\n"
     ]
    }
   ],
   "source": [
    "for name in names:\n",
    "    print(name)\n",
    "    print(mu[name]/max_mu)"
   ]
  },
  {
   "cell_type": "code",
   "execution_count": null,
   "metadata": {},
   "outputs": [],
   "source": []
  }
 ],
 "metadata": {
  "kernelspec": {
   "display_name": "pytorch-gpu",
   "language": "python",
   "name": "python3"
  },
  "language_info": {
   "codemirror_mode": {
    "name": "ipython",
    "version": 3
   },
   "file_extension": ".py",
   "mimetype": "text/x-python",
   "name": "python",
   "nbconvert_exporter": "python",
   "pygments_lexer": "ipython3",
   "version": "3.10.13"
  },
  "orig_nbformat": 4
 },
 "nbformat": 4,
 "nbformat_minor": 2
}
