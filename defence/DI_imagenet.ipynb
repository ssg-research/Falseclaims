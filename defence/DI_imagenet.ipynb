{
 "cells": [
  {
   "cell_type": "code",
   "execution_count": 15,
   "metadata": {},
   "outputs": [],
   "source": [
    "# Parameters\n",
    "dataset = \"imagenet\" # CIFAR10, CIFAR100, SVHN\n",
    "v_type = \"mingd\" # mingd, rand\n",
    "root_path = \"/home/r545zhan/aaa/False-Claims-Against-Model-Ownership-Resolution/defences/imagenet/DI/files\"\n",
    "params_path = \"/home/r545zhan/aaa/False-Claims-Against-Model-Ownership-Resolution/defences/imagenet/DI/files\"\n",
    "split_index = 500\n"
   ]
  },
  {
   "cell_type": "markdown",
   "metadata": {},
   "source": []
  },
  {
   "cell_type": "code",
   "execution_count": 16,
   "metadata": {},
   "outputs": [
    {
     "data": {
      "text/markdown": [
       "# imagenet - MinGD results"
      ],
      "text/plain": [
       "<IPython.core.display.Markdown object>"
      ]
     },
     "metadata": {},
     "output_type": "display_data"
    }
   ],
   "source": [
    "from IPython.display import display, Markdown\n",
    "v_type2disp = dict(mingd=\"MinGD\", rand=\"Blind Walk\")\n",
    "display(Markdown(f\"# {dataset} - {v_type2disp[v_type]} results\"))"
   ]
  },
  {
   "cell_type": "code",
   "execution_count": 17,
   "metadata": {},
   "outputs": [],
   "source": [
    "import os, sys\n",
    "sys.path.insert(0, params_path)\n",
    "\n",
    "import argparse, time\n",
    "import numpy as np\n",
    "import torch\n",
    "import torch.nn as nn\n",
    "import torch.optim as optim\n",
    "from importlib import reload\n",
    "from tqdm.auto import tqdm\n",
    "\n",
    "import random\n",
    "\n",
    "torch.manual_seed(0)\n",
    "np.random.seed(0)\n",
    "random.seed(0)"
   ]
  },
  {
   "cell_type": "code",
   "execution_count": 18,
   "metadata": {},
   "outputs": [],
   "source": [
    "import seaborn as sns\n",
    "import pandas as pd\n",
    "import os"
   ]
  },
  {
   "cell_type": "code",
   "execution_count": 19,
   "metadata": {},
   "outputs": [],
   "source": [
    "from scipy.stats import combine_pvalues, ttest_ind_from_stats, ttest_ind\n",
    "from functools import reduce\n",
    "from scipy.stats import hmean"
   ]
  },
  {
   "cell_type": "code",
   "execution_count": 20,
   "metadata": {},
   "outputs": [],
   "source": [
    "root = os.path.join(root_path,dataset)"
   ]
  },
  {
   "cell_type": "code",
   "execution_count": 21,
   "metadata": {},
   "outputs": [],
   "source": [
    "names = [\"teacher\",\"teacher_adv\",\"fine-tune\",\"independent\",\"suspect\",\"suspect_same_struct\",\"suspect_same_data\",\"suspect_adv\",\"suspect_same_data_adv\",\"suspect_same_struct_adv\"]\n",
    "trains = {}\n",
    "tests = {}\n",
    "for name in names:\n",
    "    trains[name] = (torch.load(f\"{root}/model_{name}/train_{v_type}_vulnerability_2.pt\"))\n",
    "    tests[name] = (torch.load(f\"{root}/model_{name}/test_{v_type}_vulnerability_2.pt\"))\n",
    "mean_cifar = trains[\"teacher\"].mean(dim = (0,1))\n",
    "std_cifar = trains[\"teacher\"].std(dim = (0,1))"
   ]
  },
  {
   "cell_type": "code",
   "execution_count": 22,
   "metadata": {},
   "outputs": [
    {
     "data": {
      "text/plain": [
       "torch.Size([500, 10, 3])"
      ]
     },
     "execution_count": 22,
     "metadata": {},
     "output_type": "execute_result"
    }
   ],
   "source": [
    "trains[\"teacher\"].shape"
   ]
  },
  {
   "cell_type": "code",
   "execution_count": 23,
   "metadata": {},
   "outputs": [
    {
     "name": "stderr",
     "output_type": "stream",
     "text": [
      "/tmp/ipykernel_915982/2760032801.py:14: UserWarning: The use of `x.T` on tensors of dimension other than 2 to reverse their shape is deprecated and it will throw an error in a future release. Consider `x.mT` to transpose batches of matricesor `x.permute(*torch.arange(x.ndim - 1, -1, -1))` to reverse the dimensions of a tensor. (Triggered internally at  /opt/conda/conda-bld/pytorch_1659484808560/work/aten/src/ATen/native/TensorShape.cpp:2981.)\n",
      "  trains_n[name] = trains[name].T.reshape(500,f_num)[:,:a_num]\n"
     ]
    }
   ],
   "source": [
    "for name in names:\n",
    "    trains[name] = trains[name].sort(dim = 1)[0]\n",
    "    tests[name] = tests[name].sort(dim = 1)[0]\n",
    "for name in names:\n",
    "    trains[name] = (trains[name]- mean_cifar)/std_cifar\n",
    "    tests[name] = (tests[name]- mean_cifar)/std_cifar\n",
    "f_num = 30\n",
    "a_num=30\n",
    "\n",
    "trains_n = {}\n",
    "tests_n = {}\n",
    "for name in names:\n",
    "    if 'teacher' in name:\n",
    "        trains_n[name] = trains[name].T.reshape(500,f_num)[:,:a_num]\n",
    "    elif 'suspect_same_struct_adv'in name or \"suspect_adv\" in name:\n",
    "        trains_n[name] = trains[name].T.reshape(500,f_num)[:,:a_num]\n",
    "    elif \"independent\" in name:\n",
    "        trains_n[name] = trains[name].T.reshape(1024,f_num)[:,:a_num]\n",
    "    else:\n",
    "        trains_n[name] = trains[name].T.reshape(500,f_num)[:,:a_num]\n",
    "    tests_n[name] = tests[name].T.reshape(500,f_num)[:,:a_num]"
   ]
  },
  {
   "cell_type": "code",
   "execution_count": 24,
   "metadata": {},
   "outputs": [],
   "source": [
    "n_ex = split_index\n",
    "train = torch.cat((trains_n[\"teacher\"][:250], tests_n[\"teacher\"][:250]), dim = 0)\n",
    "y = torch.cat((torch.zeros(250), torch.ones(250)), dim = 0)\n",
    "train_adv = torch.cat((trains_n[\"teacher_adv\"][:250], tests_n[\"teacher_adv\"][:250]), dim = 0)\n",
    "rand=torch.randperm(y.shape[0])\n",
    "train = train[rand]\n",
    "train_adv = train_adv[rand]\n",
    "y = y[rand]"
   ]
  },
  {
   "cell_type": "code",
   "execution_count": 25,
   "metadata": {},
   "outputs": [
    {
     "name": "stderr",
     "output_type": "stream",
     "text": [
      "loss -0.5714637041091919: 100%|██████████| 1000/1000 [00:01<00:00, 621.39it/s]\n",
      "loss -0.7259819507598877: 100%|██████████| 1000/1000 [00:01<00:00, 654.59it/s]\n"
     ]
    }
   ],
   "source": [
    "model = nn.Sequential(nn.Linear(a_num,100),nn.ReLU(),nn.Linear(100,1),nn.Tanh())\n",
    "criterion = nn.CrossEntropyLoss()\n",
    "optimizer =torch.optim.SGD(model.parameters(), lr=0.1)\n",
    "with tqdm(range(1000)) as pbar:\n",
    "    for epoch in pbar:\n",
    "        optimizer.zero_grad()\n",
    "        inputs = train\n",
    "        outputs = model(inputs)\n",
    "        loss = -1 * ((2*y-1)*(outputs.squeeze(-1))).mean()\n",
    "        loss.backward()\n",
    "        optimizer.step()\n",
    "        pbar.set_description('loss {}'.format(loss.item()))\n",
    "model_adv = model\n",
    "optimizer =torch.optim.SGD(model_adv.parameters(), lr=0.1)\n",
    "with tqdm(range(1000)) as pbar:\n",
    "    for epoch in pbar:\n",
    "        optimizer.zero_grad()\n",
    "        inputs = train_adv\n",
    "        outputs = model(inputs)\n",
    "        loss = -1 * ((2*y-1)*(outputs.squeeze(-1))).mean()\n",
    "        loss.backward()\n",
    "        optimizer.step()\n",
    "        pbar.set_description('loss {}'.format(loss.item()))"
   ]
  },
  {
   "cell_type": "code",
   "execution_count": 26,
   "metadata": {},
   "outputs": [],
   "source": [
    "## Dataset Inference"
   ]
  },
  {
   "cell_type": "code",
   "execution_count": 27,
   "metadata": {},
   "outputs": [],
   "source": [
    "def get_p(outputs_train, outputs_test):\n",
    "    pred_test = outputs_test[:,0].detach().cpu().numpy()\n",
    "    pred_train = outputs_train[:,0].detach().cpu().numpy()\n",
    "    tval, pval = ttest_ind(pred_test, pred_train, alternative=\"greater\", equal_var=False)\n",
    "    if pval < 0:\n",
    "        raise Exception(f\"p-value={pval}\")\n",
    "    return pval\n",
    "\n",
    "def get_p_values(num_ex, train, test, k):\n",
    "    total = train.shape[0]\n",
    "    sum_p = 0\n",
    "    p_values = []\n",
    "    positions_list = []\n",
    "    for i in range(k):\n",
    "        positions = torch.randperm(total)[:num_ex]\n",
    "        p_val = get_p(train[positions], test[positions])\n",
    "        positions_list.append(positions)\n",
    "        p_values.append(p_val)\n",
    "    return p_values\n",
    "\n",
    "def get_fischer(num_ex, train, test, k):\n",
    "    p_values = get_p_values(num_ex, train, test, k)\n",
    "    return combine_pvalues(p_values, method=\"mudholkar_george\")[1]\n",
    "\n",
    "def get_max_p_value(num_ex, train, test, k):\n",
    "    p_values = get_p_values(num_ex, train, test, k)\n",
    "    return max(p_values)"
   ]
  },
  {
   "cell_type": "code",
   "execution_count": 28,
   "metadata": {},
   "outputs": [],
   "source": [
    "outputs_tr = {}\n",
    "outputs_te = {}\n",
    "for name in names:\n",
    "    if 'adv' not in name:\n",
    "        model.eval()\n",
    "        outputs_tr[name] = model(trains_n[name])\n",
    "        outputs_te[name] = model(tests_n[name])\n",
    "    else:\n",
    "        model_adv.eval()\n",
    "        outputs_tr[name] = model_adv(trains_n[name])\n",
    "        outputs_te[name] = model_adv(tests_n[name])"
   ]
  },
  {
   "cell_type": "code",
   "execution_count": 29,
   "metadata": {},
   "outputs": [],
   "source": [
    "import scipy.stats as stats\n",
    "def print_inference(outputs_train, outputs_test):\n",
    "    m1, m2 = outputs_test[:,0].mean(), outputs_train[:,0].mean()\n",
    "    pval = get_p(outputs_train, outputs_test)\n",
    "    print(f\"p-value = {pval} \\t| Mean difference = {m1-m2}\\t|test_mu = {m1},train_mu = {m2}\")\n",
    "    return (m1-m2).item()"
   ]
  },
  {
   "cell_type": "code",
   "execution_count": 30,
   "metadata": {},
   "outputs": [],
   "source": [
    "for name in names:\n",
    "    outputs_tr[name], outputs_te[name] = outputs_tr[name][250:], outputs_te[name][250:]"
   ]
  },
  {
   "cell_type": "code",
   "execution_count": 31,
   "metadata": {},
   "outputs": [
    {
     "name": "stdout",
     "output_type": "stream",
     "text": [
      "teacher\n",
      "p-value = 3.466604886855402e-21 \t| Mean difference = 0.57337486743927\t|test_mu = 0.9404141306877136,train_mu = 0.3670392334461212\n",
      "teacher_adv\n",
      "p-value = 1.6869095097228255e-31 \t| Mean difference = 0.858731210231781\t|test_mu = 0.9404141306877136,train_mu = 0.08168291300535202\n",
      "fine-tune\n",
      "p-value = 1.527983895133034e-17 \t| Mean difference = 0.5375710725784302\t|test_mu = 0.9404374361038208,train_mu = 0.40286633372306824\n",
      "independent\n",
      "p-value = 5.317476409672829e-42 \t| Mean difference = 0.5225328207015991\t|test_mu = 0.9405975937843323,train_mu = 0.41806480288505554\n",
      "suspect\n",
      "p-value = 2.7175248647418982e-14 \t| Mean difference = 0.4275725483894348\t|test_mu = 0.9403398633003235,train_mu = 0.5127673149108887\n",
      "suspect_same_struct\n",
      "p-value = 1.9138758004102557e-08 \t| Mean difference = 0.2649204730987549\t|test_mu = 0.9403780102729797,train_mu = 0.6754575371742249\n",
      "suspect_same_data\n",
      "p-value = 2.2291505842308355e-24 \t| Mean difference = 0.656856119632721\t|test_mu = 0.9403539299964905,train_mu = 0.28349781036376953\n",
      "suspect_adv\n",
      "p-value = 1.7087128711903095e-31 \t| Mean difference = 0.8586743474006653\t|test_mu = 0.9403398633003235,train_mu = 0.08166549354791641\n",
      "suspect_same_data_adv\n",
      "p-value = 1.704085900020581e-31 \t| Mean difference = 0.8587024211883545\t|test_mu = 0.9403539299964905,train_mu = 0.08165149390697479\n",
      "suspect_same_struct_adv\n",
      "p-value = 1.6986942849205782e-31 \t| Mean difference = 0.8586599826812744\t|test_mu = 0.9403780102729797,train_mu = 0.08171800523996353\n"
     ]
    }
   ],
   "source": [
    "mu={}\n",
    "max_mu=0\n",
    "for name in names:\n",
    "    print(f\"{name}\")\n",
    "    mu[name]=print_inference(outputs_tr[name], outputs_te[name])\n",
    "    if mu[name]>=max_mu:\n",
    "        max_mu = mu[name]"
   ]
  },
  {
   "cell_type": "code",
   "execution_count": 32,
   "metadata": {},
   "outputs": [
    {
     "name": "stdout",
     "output_type": "stream",
     "text": [
      "teacher\n",
      "0.6677000446793006\n",
      "teacher_adv\n",
      "1.0\n",
      "fine-tune\n",
      "0.6260062126230789\n",
      "independent\n",
      "0.6084940368716327\n",
      "suspect\n",
      "0.497911969769945\n",
      "suspect_same_struct\n",
      "0.3085022064439115\n",
      "suspect_same_data\n",
      "0.7649146925211071\n",
      "suspect_adv\n",
      "0.9999337827361598\n",
      "suspect_same_data_adv\n",
      "0.9999664749073011\n",
      "suspect_same_struct_adv\n",
      "0.9999170548948753\n"
     ]
    }
   ],
   "source": [
    "for name in names:\n",
    "    print(name)\n",
    "    print(mu[name]/max_mu)"
   ]
  }
 ],
 "metadata": {
  "kernelspec": {
   "display_name": "pytorch-gpu",
   "language": "python",
   "name": "python3"
  },
  "language_info": {
   "codemirror_mode": {
    "name": "ipython",
    "version": 3
   },
   "file_extension": ".py",
   "mimetype": "text/x-python",
   "name": "python",
   "nbconvert_exporter": "python",
   "pygments_lexer": "ipython3",
   "version": "3.10.13"
  },
  "orig_nbformat": 4
 },
 "nbformat": 4,
 "nbformat_minor": 2
}
